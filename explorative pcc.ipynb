{
 "cells": [
  {
   "cell_type": "code",
   "execution_count": 1,
   "metadata": {},
   "outputs": [],
   "source": [
    "import random\n",
    "\n",
    "import numpy as np\n",
    "import skml\n",
    "from skml.problem_transformation import ProbabilisticClassifierChain\n",
    "from skml.datasets import sample_down_label_space\n",
    "from sklearn.model_selection import KFold\n",
    "from sklearn.linear_model import LogisticRegression\n",
    "from sklearn.metrics import hamming_loss\n",
    "from sklearn.metrics import accuracy_score\n",
    "from sklearn.metrics import f1_score\n",
    "from sklearn.metrics import precision_score\n",
    "from sklearn.metrics import recall_score\n",
    "from sklearn.base import clone\n",
    "\n",
    "from experimental_framework import load_from_arff\n",
    "\n",
    "random.seed(2018)"
   ]
  },
  {
   "cell_type": "code",
   "execution_count": 2,
   "metadata": {},
   "outputs": [],
   "source": [
    "X, y = load_from_arff('data/enron/enron.arff', labelcount=53, endian=\"little\")"
   ]
  },
  {
   "cell_type": "code",
   "execution_count": 3,
   "metadata": {},
   "outputs": [],
   "source": [
    "y = sample_down_label_space(y, k=10)"
   ]
  },
  {
   "cell_type": "code",
   "execution_count": 4,
   "metadata": {},
   "outputs": [],
   "source": [
    "X = X.todense()\n",
    "y = y.todense()"
   ]
  },
  {
   "cell_type": "code",
   "execution_count": 5,
   "metadata": {},
   "outputs": [],
   "source": [
    "clf = ProbabilisticClassifierChain(LogisticRegression())\n",
    "kf = KFold()"
   ]
  },
  {
   "cell_type": "code",
   "execution_count": 10,
   "metadata": {},
   "outputs": [
    {
     "name": "stdout",
     "output_type": "stream",
     "text": [
      "----------\n",
      "hamming loss: \n",
      "0.1829225352112676\n",
      "accuracy:\n",
      "0.2323943661971831\n",
      "f1 score:\n",
      "micro\n",
      "0.5384273656152821\n",
      "macro\n",
      "0.435764750175122\n",
      "precision:\n",
      "micro\n",
      "0.6325678496868476\n",
      "macro\n",
      "0.5184902831165241\n",
      "recall:\n",
      "micro\n",
      "0.46867749419953597\n",
      "macro\n",
      "0.3843972259928678\n",
      "----------\n",
      "hamming loss: \n",
      "0.19647266313932982\n",
      "accuracy:\n",
      "0.12698412698412698\n",
      "f1 score:\n",
      "micro\n",
      "0.5883222468588322\n",
      "macro\n",
      "0.4741030925483677\n",
      "precision:\n",
      "micro\n",
      "0.6209048361934477\n",
      "macro\n",
      "0.5381684414008323\n",
      "recall:\n",
      "micro\n",
      "0.5589887640449438\n",
      "macro\n",
      "0.44449943537594755\n",
      "----------\n",
      "hamming loss: \n",
      "0.20582010582010582\n",
      "accuracy:\n",
      "0.13756613756613756\n",
      "f1 score:\n",
      "micro\n",
      "0.5794594594594595\n",
      "macro\n",
      "0.44526990126114957\n",
      "precision:\n",
      "micro\n",
      "0.6296006264682851\n",
      "macro\n",
      "0.5400536539191063\n",
      "recall:\n",
      "micro\n",
      "0.5367156208277704\n",
      "macro\n",
      "0.4039492063738136\n"
     ]
    }
   ],
   "source": [
    "for train_index, test_index in kf.split(X):\n",
    "    X_train = X[train_index]\n",
    "    X_test = X[test_index]\n",
    "    y_train = y[train_index]\n",
    "    y_test = y[test_index]\n",
    "    \n",
    "    pcc = clone(clf)\n",
    "    \n",
    "    pcc.fit(X_train, y_train)\n",
    "    y_pred = pcc.predict(X_test)\n",
    "    \n",
    "    print(\"----------\")\n",
    "\n",
    "    print(\"hamming loss: \")\n",
    "    print(hamming_loss(y_test, y_pred))\n",
    "\n",
    "    print(\"accuracy:\")\n",
    "    print(accuracy_score(y_test, y_pred))\n",
    "\n",
    "    print(\"f1 score:\")\n",
    "    print(\"micro\")\n",
    "    print(f1_score(y_test, y_pred, average='micro'))\n",
    "    print(\"macro\")\n",
    "    print(f1_score(y_test, y_pred, average='macro'))\n",
    "\n",
    "    print(\"precision:\")\n",
    "    print(\"micro\")\n",
    "    print(precision_score(y_test, y_pred, average='micro'))\n",
    "    print(\"macro\")\n",
    "    print(precision_score(y_test, y_pred, average='macro'))\n",
    "\n",
    "    print(\"recall:\")\n",
    "    print(\"micro\")\n",
    "    print(recall_score(y_test, y_pred, average='micro'))\n",
    "    print(\"macro\")\n",
    "    print(recall_score(y_test, y_pred, average='macro'))"
   ]
  },
  {
   "cell_type": "code",
   "execution_count": null,
   "metadata": {},
   "outputs": [],
   "source": []
  }
 ],
 "metadata": {
  "kernelspec": {
   "display_name": "Python 3",
   "language": "python",
   "name": "python3"
  },
  "language_info": {
   "codemirror_mode": {
    "name": "ipython",
    "version": 3
   },
   "file_extension": ".py",
   "mimetype": "text/x-python",
   "name": "python",
   "nbconvert_exporter": "python",
   "pygments_lexer": "ipython3",
   "version": "3.6.4"
  }
 },
 "nbformat": 4,
 "nbformat_minor": 2
}
