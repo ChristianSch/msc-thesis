{
 "cells": [
  {
   "cell_type": "markdown",
   "metadata": {},
   "source": [
    "# Uncertainty Losses Iteration #1"
   ]
  },
  {
   "cell_type": "code",
   "execution_count": 1,
   "metadata": {},
   "outputs": [],
   "source": [
    "import os\n",
    "import sys\n",
    "\n",
    "sys.path.append(os.path.abspath('..'))"
   ]
  },
  {
   "cell_type": "code",
   "execution_count": 2,
   "metadata": {},
   "outputs": [],
   "source": [
    "import random\n",
    "\n",
    "import numpy as np\n",
    "from copy import copy\n",
    "import skml\n",
    "from skml.problem_transformation import ProbabilisticClassifierChain\n",
    "from skml.datasets import sample_down_label_space\n",
    "from sklearn.model_selection import KFold\n",
    "from sklearn.linear_model import LogisticRegression\n",
    "from sklearn.metrics import hamming_loss\n",
    "from sklearn.metrics import accuracy_score\n",
    "from sklearn.metrics import f1_score\n",
    "from sklearn.metrics import precision_score\n",
    "from sklearn.metrics import recall_score\n",
    "from sklearn.base import clone\n",
    "from sklearn.externals import joblib\n",
    "import arff\n",
    "\n",
    "from lib.experimental_framework import load_from_arff\n",
    "random.seed(2018)"
   ]
  },
  {
   "cell_type": "code",
   "execution_count": 3,
   "metadata": {},
   "outputs": [],
   "source": [
    "X, y = load_from_arff('../data/enron/enron.arff', labelcount=53, endian='little')\n",
    "y = sample_down_label_space(y, k=10)\n",
    "\n",
    "X = X.todense()\n",
    "y = y.todense()"
   ]
  },
  {
   "cell_type": "code",
   "execution_count": 4,
   "metadata": {},
   "outputs": [],
   "source": [
    "try:\n",
    "    results = joblib.load('../data/predictions.pkl')\n",
    "    idxs = joblib.load('../data/idxs.pkl')\n",
    "except:\n",
    "    print(\"re-training\")\n",
    "    results = []\n",
    "    idxs = []"
   ]
  },
  {
   "cell_type": "code",
   "execution_count": 5,
   "metadata": {},
   "outputs": [],
   "source": [
    "if len(results) == 0:\n",
    "    clf = ProbabilisticClassifierChain(LogisticRegression())\n",
    "    kf = KFold()\n",
    "\n",
    "    results = []\n",
    "\n",
    "    for train_index, test_index in kf.split(X):\n",
    "        X_train = X[train_index]\n",
    "        X_test = X[test_index]\n",
    "        y_train = y[train_index]\n",
    "        y_test = y[test_index]\n",
    "\n",
    "        idxs.append((train_index, test_index))\n",
    "        pcc = clone(clf)\n",
    "\n",
    "        pcc.fit(X_train, y_train)\n",
    "        y_pred = pcc.predict(X_test)\n",
    "        y_pred_pp = pcc.predict_proba(X_test)\n",
    "        results.append((y_pred, y_pred_pp))\n",
    "\n",
    "        print(\"----------\")\n",
    "\n",
    "        print(\"hamming loss: \")\n",
    "        print(hamming_loss(y_test, y_pred))\n",
    "\n",
    "        print(\"accuracy:\")\n",
    "        print(accuracy_score(y_test, y_pred))\n",
    "\n",
    "        print(\"f1 score:\")\n",
    "        print(\"micro\")\n",
    "        print(f1_score(y_test, y_pred, average='micro'))\n",
    "        print(\"macro\")\n",
    "        print(f1_score(y_test, y_pred, average='macro'))\n",
    "\n",
    "        print(\"precision:\")\n",
    "        print(\"micro\")\n",
    "        print(precision_score(y_test, y_pred, average='micro'))\n",
    "        print(\"macro\")\n",
    "        print(precision_score(y_test, y_pred, average='macro'))\n",
    "\n",
    "        print(\"recall:\")\n",
    "        print(\"micro\")\n",
    "        print(recall_score(y_test, y_pred, average='micro'))\n",
    "        print(\"macro\")\n",
    "        print(recall_score(y_test, y_pred, average='macro'))y\n",
    "\n",
    "    joblib.dump(results, '../data/predictions.pkl')\n",
    "    joblib.dump(idxs, '../data/idxs.pkl')"
   ]
  },
  {
   "cell_type": "code",
   "execution_count": 92,
   "metadata": {},
   "outputs": [],
   "source": [
    "def uncertain_hamming_loss(y, y_pred, omega=1.0):\n",
    "    N, L = y_pred.shape\n",
    "    cumsum = 0\n",
    "    \n",
    "    # place '?' if not already done\n",
    "    np.place(y_pred, \n",
    "             mask=np.logical_and(y_pred > 1/3, y_pred < 2/3),\n",
    "             vals=np.nan)\n",
    "    u = np.isnan(y_pred).sum()\n",
    "    hl = (y_pred.round() != y.astype(float)).sum()\n",
    "    print(hl / (N * L))\n",
    "    print(\"avg u:\", u / N)\n",
    "    return (hl + (u * omega)) / (N * L)"
   ]
  },
  {
   "cell_type": "code",
   "execution_count": 103,
   "metadata": {
    "scrolled": false
   },
   "outputs": [
    {
     "name": "stdout",
     "output_type": "stream",
     "text": [
      "-> hamming loss:\n",
      "0.7767605633802817\n",
      "-> uncertain hamming loss:\n",
      "0.8186619718309859\n",
      "avg u: 0.8767605633802817\n",
      "0.9063380281690141\n",
      "---\n",
      "-> hamming loss:\n",
      "0.735978835978836\n",
      "-> uncertain hamming loss:\n",
      "0.7881834215167548\n",
      "avg u: 0.9171075837742504\n",
      "0.8798941798941798\n",
      "---\n",
      "-> hamming loss:\n",
      "0.7313932980599648\n",
      "-> uncertain hamming loss:\n",
      "0.7790123456790123\n",
      "avg u: 0.9118165784832452\n",
      "0.8701940035273369\n",
      "---\n"
     ]
    },
    {
     "name": "stderr",
     "output_type": "stream",
     "text": [
      "/usr/lib/python3.6/site-packages/ipykernel_launcher.py:8: RuntimeWarning: invalid value encountered in greater_equal\n",
      "  \n",
      "/usr/lib/python3.6/site-packages/ipykernel_launcher.py:7: RuntimeWarning: invalid value encountered in greater\n",
      "  import sys\n",
      "/usr/lib/python3.6/site-packages/ipykernel_launcher.py:7: RuntimeWarning: invalid value encountered in less\n",
      "  import sys\n"
     ]
    }
   ],
   "source": [
    "for split, res in zip(idxs, results):\n",
    "    y_pred, y_pred_pp = res\n",
    "    test_index = split[1]\n",
    "    y_test = y[test_index].A\n",
    "    y_pred_pp = y_pred_pp.reshape(y_pred_pp.shape[0], y_pred_pp.shape[2])\n",
    "\n",
    "    print(\"-> hamming loss:\")\n",
    "    print(hamming_loss(y_test, y_pred_pp >= .5))\n",
    "    print(\"-> uncertain hamming loss:\")\n",
    "    print(uncertain_hamming_loss(y_test, y_pred_pp))\n",
    "    print(\"---\")\n",
    "\n",
    "    \"\"\"\n",
    "    # should be .9\n",
    "    print(uncertain_hamming_loss(y_gt, y_test, .3))\n",
    "    y_test_2 = copy(y_test)\n",
    "    y_test_2[0][1] = np.nan\n",
    "    # print(y_test_2)\n",
    "    print(uncertain_hamming_loss(y_gt, y_test_2, .3))\n",
    "    \"\"\""
   ]
  },
  {
   "cell_type": "code",
   "execution_count": 82,
   "metadata": {},
   "outputs": [],
   "source": [
    "test = ['?', 1., 0., '?']\n",
    "gt = [0., 1., 0., 1.]\n",
    "y_test = results[0][1][0]"
   ]
  },
  {
   "cell_type": "code",
   "execution_count": 8,
   "metadata": {},
   "outputs": [],
   "source": [
    "# this places the '?' as np.nan\n",
    "np.place(y_test, mask=np.logical_and(y_test > 1/3, y_test < 2/3), vals=np.nan)"
   ]
  },
  {
   "cell_type": "code",
   "execution_count": 9,
   "metadata": {},
   "outputs": [
    {
     "data": {
      "text/plain": [
       "array([[0.96297518, 0.89641911, 0.91614432,        nan, 0.93988057,\n",
       "        0.95834067, 0.88272036, 0.93995837, 0.85116763, 0.81247914]])"
      ]
     },
     "execution_count": 9,
     "metadata": {},
     "output_type": "execute_result"
    }
   ],
   "source": [
    "y_test"
   ]
  },
  {
   "cell_type": "code",
   "execution_count": 15,
   "metadata": {},
   "outputs": [
    {
     "data": {
      "text/plain": [
       "array([0, 0, 0, 1, 0, 0, 0, 0, 1, 1], dtype=int64)"
      ]
     },
     "execution_count": 15,
     "metadata": {},
     "output_type": "execute_result"
    }
   ],
   "source": [
    "y_gt = y[0].A[0]\n",
    "y_gt"
   ]
  },
  {
   "cell_type": "code",
   "execution_count": 16,
   "metadata": {},
   "outputs": [
    {
     "data": {
      "text/plain": [
       "array([[ 1.,  1.,  1., nan,  1.,  1.,  1.,  1.,  1.,  1.]])"
      ]
     },
     "execution_count": 16,
     "metadata": {},
     "output_type": "execute_result"
    }
   ],
   "source": [
    "y_test.round()"
   ]
  },
  {
   "cell_type": "code",
   "execution_count": 17,
   "metadata": {},
   "outputs": [
    {
     "data": {
      "text/plain": [
       "array([0., 0., 0., 1., 0., 0., 0., 0., 1., 1.])"
      ]
     },
     "execution_count": 17,
     "metadata": {},
     "output_type": "execute_result"
    }
   ],
   "source": [
    "y_gt.astype(float)"
   ]
  },
  {
   "cell_type": "code",
   "execution_count": 18,
   "metadata": {},
   "outputs": [
    {
     "data": {
      "text/plain": [
       "0.7"
      ]
     },
     "execution_count": 18,
     "metadata": {},
     "output_type": "execute_result"
    }
   ],
   "source": [
    "hamming_loss([1] * 10, y_gt.reshape(1, -1)[0])"
   ]
  },
  {
   "cell_type": "code",
   "execution_count": 19,
   "metadata": {},
   "outputs": [
    {
     "data": {
      "text/plain": [
       "0.8"
      ]
     },
     "execution_count": 19,
     "metadata": {},
     "output_type": "execute_result"
    }
   ],
   "source": [
    "1/10*(y_test.round() != y_gt.astype(float)).sum()"
   ]
  },
  {
   "cell_type": "code",
   "execution_count": 36,
   "metadata": {},
   "outputs": [
    {
     "data": {
      "text/plain": [
       "3"
      ]
     },
     "execution_count": 36,
     "metadata": {},
     "output_type": "execute_result"
    }
   ],
   "source": [
    "len(results)"
   ]
  },
  {
   "cell_type": "code",
   "execution_count": 26,
   "metadata": {},
   "outputs": [
    {
     "data": {
      "text/plain": [
       "(array([0, 0, 0, 1, 0, 0, 0, 0, 1, 0]),\n",
       " array([[0.96297518, 0.89641911, 0.91614432,        nan, 0.93988057,\n",
       "         0.95834067, 0.88272036, 0.93995837, 0.85116763, 0.81247914]]))"
      ]
     },
     "execution_count": 26,
     "metadata": {},
     "output_type": "execute_result"
    }
   ],
   "source": [
    "res[0][0], res[1][0]"
   ]
  },
  {
   "cell_type": "code",
   "execution_count": null,
   "metadata": {},
   "outputs": [],
   "source": []
  }
 ],
 "metadata": {
  "kernelspec": {
   "display_name": "Python 3",
   "language": "python",
   "name": "python3"
  },
  "language_info": {
   "codemirror_mode": {
    "name": "ipython",
    "version": 3
   },
   "file_extension": ".py",
   "mimetype": "text/x-python",
   "name": "python",
   "nbconvert_exporter": "python",
   "pygments_lexer": "ipython3",
   "version": "3.6.5"
  }
 },
 "nbformat": 4,
 "nbformat_minor": 2
}
