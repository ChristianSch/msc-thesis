{
 "cells": [
  {
   "cell_type": "code",
   "execution_count": 1,
   "metadata": {},
   "outputs": [],
   "source": [
    "import os\n",
    "import sys\n",
    "\n",
    "sys.path.append(os.path.abspath('../lib'))"
   ]
  },
  {
   "cell_type": "code",
   "execution_count": 2,
   "metadata": {},
   "outputs": [],
   "source": [
    "import random\n",
    "\n",
    "import numpy as np\n",
    "import skml\n",
    "from skml.problem_transformation import ProbabilisticClassifierChain\n",
    "from skml.datasets import sample_down_label_space\n",
    "from sklearn.model_selection import KFold\n",
    "from sklearn.linear_model import LogisticRegression\n",
    "from sklearn.metrics import hamming_loss\n",
    "from sklearn.metrics import accuracy_score\n",
    "from sklearn.metrics import f1_score\n",
    "from sklearn.metrics import precision_score\n",
    "from sklearn.metrics import recall_score\n",
    "from sklearn.base import clone\n",
    "from sklearn.externals import joblib\n",
    "\n",
    "from experimental_framework import load_from_arff\n",
    "random.seed(2018)"
   ]
  },
  {
   "cell_type": "code",
   "execution_count": 3,
   "metadata": {},
   "outputs": [],
   "source": [
    "X, y = load_from_arff('../data/enron/enron.arff', labelcount=53, endian='little')\n",
    "y = sample_down_label_space(y, k=10)\n",
    "\n",
    "X = X.todense()\n",
    "y = y.todense()"
   ]
  },
  {
   "cell_type": "code",
   "execution_count": 4,
   "metadata": {},
   "outputs": [],
   "source": [
    "try:\n",
    "    results = joblib.load('../data/predictions.pkl')\n",
    "except:\n",
    "    results = []"
   ]
  },
  {
   "cell_type": "code",
   "execution_count": 5,
   "metadata": {},
   "outputs": [],
   "source": [
    "if len(results) == 0:\n",
    "    clf = ProbabilisticClassifierChain(LogisticRegression())\n",
    "    kf = KFold()\n",
    "\n",
    "    results = []\n",
    "\n",
    "    for train_index, test_index in kf.split(X):\n",
    "        X_train = X[train_index]\n",
    "        X_test = X[test_index]\n",
    "        y_train = y[train_index]\n",
    "        y_test = y[test_index]\n",
    "\n",
    "        pcc = clone(clf)\n",
    "\n",
    "        pcc.fit(X_train, y_train)\n",
    "        y_pred = pcc.predict(X_test)\n",
    "        y_pred_pp = pcc.predict_proba(X_test)\n",
    "        results.append((y_pred, y_pred_pp))\n",
    "\n",
    "\n",
    "        print(\"----------\")\n",
    "\n",
    "        print(\"hamming loss: \")\n",
    "        print(hamming_loss(y_test, y_pred))\n",
    "\n",
    "        print(\"accuracy:\")\n",
    "        print(accuracy_score(y_test, y_pred))\n",
    "\n",
    "        print(\"f1 score:\")\n",
    "        print(\"micro\")\n",
    "        print(f1_score(y_test, y_pred, average='micro'))\n",
    "        print(\"macro\")\n",
    "        print(f1_score(y_test, y_pred, average='macro'))\n",
    "\n",
    "        print(\"precision:\")\n",
    "        print(\"micro\")\n",
    "        print(precision_score(y_test, y_pred, average='micro'))\n",
    "        print(\"macro\")\n",
    "        print(precision_score(y_test, y_pred, average='macro'))\n",
    "\n",
    "        print(\"recall:\")\n",
    "        print(\"micro\")\n",
    "        print(recall_score(y_test, y_pred, average='micro'))\n",
    "        print(\"macro\")\n",
    "        print(recall_score(y_test, y_pred, average='macro'))\n",
    "\n",
    "    joblib.dump(results, '../data/predictions.pkl') "
   ]
  },
  {
   "cell_type": "code",
   "execution_count": 17,
   "metadata": {},
   "outputs": [],
   "source": [
    "test = ['?', 1., 0., '?']\n",
    "gt = [0., 1., 0., 1.]\n",
    "y_test = results[0][1][0]"
   ]
  },
  {
   "cell_type": "code",
   "execution_count": 23,
   "metadata": {},
   "outputs": [],
   "source": [
    "# this places the '?' as np.nan\n",
    "np.place(y_test, mask=np.logical_and(y_test > 1/3, y_test < 2/3), vals=np.nan)"
   ]
  },
  {
   "cell_type": "code",
   "execution_count": 24,
   "metadata": {},
   "outputs": [
    {
     "data": {
      "text/plain": [
       "array([[0.96297518, 0.89641911, 0.91614432,        nan, 0.93988057,\n",
       "        0.95834067, 0.88272036, 0.93995837, 0.85116763, 0.81247914]])"
      ]
     },
     "execution_count": 24,
     "metadata": {},
     "output_type": "execute_result"
    }
   ],
   "source": [
    "y_test"
   ]
  },
  {
   "cell_type": "code",
   "execution_count": 22,
   "metadata": {},
   "outputs": [
    {
     "data": {
      "text/plain": [
       "array([[False, False, False,  True, False, False, False, False, False,\n",
       "        False]])"
      ]
     },
     "execution_count": 22,
     "metadata": {},
     "output_type": "execute_result"
    }
   ],
   "source": [
    "np.logical_and(y_test > 1/3, y_test < 2/3)"
   ]
  },
  {
   "cell_type": "code",
   "execution_count": 32,
   "metadata": {},
   "outputs": [
    {
     "data": {
      "text/plain": [
       "(1, 10)"
      ]
     },
     "execution_count": 32,
     "metadata": {},
     "output_type": "execute_result"
    }
   ],
   "source": [
    "y_test.shape"
   ]
  },
  {
   "cell_type": "code",
   "execution_count": 30,
   "metadata": {},
   "outputs": [],
   "source": [
    "idxs = np.isnan(y_test)"
   ]
  },
  {
   "cell_type": "code",
   "execution_count": 31,
   "metadata": {},
   "outputs": [
    {
     "data": {
      "text/plain": [
       "1"
      ]
     },
     "execution_count": 31,
     "metadata": {},
     "output_type": "execute_result"
    }
   ],
   "source": [
    "N = np.sum(idxs)\n",
    "L = y_test.shape[1]\n",
    "\n",
    "w0 = 1 / (L - N)\n",
    "w1 = 1 / N"
   ]
  },
  {
   "cell_type": "code",
   "execution_count": 25,
   "metadata": {},
   "outputs": [
    {
     "data": {
      "text/plain": [
       "array([[0.96297518, 0.89641911, 0.91614432,        nan, 0.93988057,\n",
       "        0.95834067, 0.88272036, 0.93995837, 0.85116763, 0.81247914]])"
      ]
     },
     "execution_count": 25,
     "metadata": {},
     "output_type": "execute_result"
    }
   ],
   "source": [
    "np.array(y_test, dtype=np.float)"
   ]
  },
  {
   "cell_type": "code",
   "execution_count": 26,
   "metadata": {},
   "outputs": [
    {
     "data": {
      "text/plain": [
       "array([0., 1., 0., 1.])"
      ]
     },
     "execution_count": 26,
     "metadata": {},
     "output_type": "execute_result"
    }
   ],
   "source": [
    "np.array(gt, dtype=np.float)"
   ]
  },
  {
   "cell_type": "code",
   "execution_count": 28,
   "metadata": {},
   "outputs": [],
   "source": [
    "test = ['?', 1., 0., '?']\n",
    "gt = [0., 1., 0., 1.]\n",
    "\n",
    "def uncertain_hamming_loss(y, y_pred):\n",
    "    y = np.array(y, dtype=np.float)\n",
    "    y_pred = np.array(y, dtype=np.float)\n",
    "    \n",
    "    idxs = np.isnan(y_test)"
   ]
  },
  {
   "cell_type": "code",
   "execution_count": 7,
   "metadata": {},
   "outputs": [],
   "source": [
    "for res in results:\n",
    "    y_pred, y_pred_pp = res\n",
    "    \n",
    "    print(\"hamming loss: \")\n",
    "    print(hamming_loss(y_test, y_pred))\n",
    "\n",
    "    print(\"accuracy:\")\n",
    "    print(accuracy_score(y_test, y_pred))\n",
    "\n",
    "    print(\"f1 score:\")\n",
    "    print(\"micro\")\n",
    "    print(f1_score(y_test, y_pred, average='micro'))\n",
    "    print(\"macro\")\n",
    "    print(f1_score(y_test, y_pred, average='macro'))\n",
    "\n",
    "    print(\"precision:\")\n",
    "    print(\"micro\")\n",
    "    print(precision_score(y_test, y_pred, average='micro'))\n",
    "    print(\"macro\")\n",
    "    print(precision_score(y_test, y_pred, average='macro'))\n",
    "\n",
    "    print(\"recall:\")\n",
    "    print(\"micro\")\n",
    "    print(recall_score(y_test, y_pred, average='micro'))\n",
    "    print(\"macro\")\n",
    "    print(recall_score(y_test, y_pred, average='macro'))"
   ]
  },
  {
   "cell_type": "code",
   "execution_count": null,
   "metadata": {},
   "outputs": [],
   "source": []
  }
 ],
 "metadata": {
  "kernelspec": {
   "display_name": "Python 3",
   "language": "python",
   "name": "python3"
  },
  "language_info": {
   "codemirror_mode": {
    "name": "ipython",
    "version": 3
   },
   "file_extension": ".py",
   "mimetype": "text/x-python",
   "name": "python",
   "nbconvert_exporter": "python",
   "pygments_lexer": "ipython3",
   "version": "3.6.4"
  }
 },
 "nbformat": 4,
 "nbformat_minor": 2
}
