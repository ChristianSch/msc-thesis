{
 "cells": [
  {
   "cell_type": "markdown",
   "metadata": {},
   "source": [
    "# Uncertainty Losses Iteration #2"
   ]
  },
  {
   "cell_type": "code",
   "execution_count": 1,
   "metadata": {},
   "outputs": [],
   "source": [
    "import os\n",
    "import sys\n",
    "\n",
    "sys.path.append(os.path.abspath('..'))"
   ]
  },
  {
   "cell_type": "code",
   "execution_count": 2,
   "metadata": {},
   "outputs": [],
   "source": [
    "seed = 2018"
   ]
  },
  {
   "cell_type": "code",
   "execution_count": 3,
   "metadata": {},
   "outputs": [],
   "source": [
    "import random\n",
    "\n",
    "import numpy as np\n",
    "from copy import copy\n",
    "import skml\n",
    "from skml.problem_transformation import ProbabilisticClassifierChain\n",
    "from skml.datasets import sample_down_label_space\n",
    "from sklearn.model_selection import KFold, train_test_split\n",
    "from sklearn.linear_model import LogisticRegression\n",
    "from sklearn.metrics import hamming_loss\n",
    "from sklearn.metrics import accuracy_score\n",
    "from sklearn.metrics import f1_score\n",
    "from sklearn.metrics import precision_score\n",
    "from sklearn.metrics import recall_score\n",
    "from sklearn.base import clone\n",
    "from sklearn.externals import joblib\n",
    "import arff\n",
    "import os\n",
    "import time\n",
    "\n",
    "from lib.experimental_framework import load_data\n",
    "random.seed(2018)"
   ]
  },
  {
   "cell_type": "code",
   "execution_count": 4,
   "metadata": {},
   "outputs": [],
   "source": [
    "DATA_SETS = ['scene', 'emotions', 'yeast-10', 'mediamill-10', 'enron-10', 'medical-10', 'slashdot-10',\n",
    "            'ohsumed-10', 'tmc2007-500-10', 'imdb-10']"
   ]
  },
  {
   "cell_type": "code",
   "execution_count": null,
   "metadata": {},
   "outputs": [],
   "source": [
    "for ds in DATA_SETS:\n",
    "    tic = time.time()\n",
    "    data = load_data(ds)\n",
    "    toc = time.time()\n",
    "    print(\"{}: {:.4f} s\".format(ds, toc - tic))"
   ]
  },
  {
   "cell_type": "code",
   "execution_count": 5,
   "metadata": {},
   "outputs": [],
   "source": [
    "def uncertain_hamming_loss(y, y_pred, omega=1.0):\n",
    "    N, L = y_pred.shape\n",
    "    cumsum = 0\n",
    "    \n",
    "    # place '?' if not already done\n",
    "    np.place(y_pred, \n",
    "             mask=np.logical_and(y_pred > 1/3, y_pred < 2/3),\n",
    "             vals=np.nan)\n",
    "    u = np.isnan(y_pred).sum()\n",
    "    hl = ((y_pred>= .5) != y.astype(float)).sum()\n",
    "    print(\"hl\", hl / (N * L))\n",
    "    return (hl + (u * omega)) / (N * L)"
   ]
  },
  {
   "cell_type": "code",
   "execution_count": 6,
   "metadata": {},
   "outputs": [],
   "source": [
    "def evaluate(y_test, y_pred, y_pred_pp):\n",
    "    print(\"----------\")\n",
    "\n",
    "    print(\"hamming loss: \")\n",
    "    print(hamming_loss(y_test, y_pred))\n",
    "\n",
    "    print(\"accuracy:\")\n",
    "    print(accuracy_score(y_test, y_pred))\n",
    "\n",
    "    print(\"f1 score:\")\n",
    "    print(\"micro\")\n",
    "    print(f1_score(y_test, y_pred, average='micro'))\n",
    "    print(\"macro\")\n",
    "    print(f1_score(y_test, y_pred, average='macro'))\n",
    "\n",
    "    print(\"precision:\")\n",
    "    print(\"micro\")\n",
    "    print(precision_score(y_test, y_pred, average='micro'))\n",
    "    print(\"macro\")\n",
    "    print(precision_score(y_test, y_pred, average='macro'))\n",
    "\n",
    "    print(\"recall:\")\n",
    "    print(\"micro\")\n",
    "    print(recall_score(y_test, y_pred, average='micro'))\n",
    "    print(\"macro\")\n",
    "    print(recall_score(y_test, y_pred, average='macro'))\n",
    "    \n",
    "    print(\"#--\")\n",
    "    print(\"-> hamming loss:\")\n",
    "    print(hamming_loss(y_test, (y_pred_pp >= .5)))\n",
    "    print(\"-> uncertain hamming loss:\")\n",
    "    print(uncertain_hamming_loss(y_test, y_pred_pp))\n",
    "    print(\"---\")"
   ]
  },
  {
   "cell_type": "code",
   "execution_count": null,
   "metadata": {},
   "outputs": [
    {
     "name": "stdout",
     "output_type": "stream",
     "text": [
      "scene\n",
      "----------\n",
      "hamming loss: \n",
      "0.10107928601079286\n",
      "accuracy:\n",
      "0.6562889165628891\n",
      "f1 score:\n",
      "micro\n",
      "0.7150380339379755\n",
      "macro\n",
      "0.6276118090224297\n",
      "precision:\n",
      "micro\n",
      "0.7256532066508313\n",
      "macro\n",
      "0.6672593950134255\n",
      "recall:\n",
      "micro\n",
      "0.7047289504036909\n",
      "macro\n",
      "0.6786993781672516\n",
      "#--\n",
      "-> hamming loss:\n",
      "0.8233706932337069\n",
      "-> uncertain hamming loss:\n",
      "hl 0.8208800332088003\n",
      "0.8812785388127854\n",
      "---\n"
     ]
    },
    {
     "name": "stderr",
     "output_type": "stream",
     "text": [
      "/usr/lib/python3.6/site-packages/ipykernel_launcher.py:10: RuntimeWarning: invalid value encountered in greater_equal\n",
      "  # Remove the CWD from sys.path while we load stuff.\n"
     ]
    },
    {
     "name": "stdout",
     "output_type": "stream",
     "text": [
      "scene\n",
      "----------\n",
      "hamming loss: \n",
      "0.12489609310058188\n",
      "accuracy:\n",
      "0.600997506234414\n",
      "f1 score:\n",
      "micro\n",
      "0.6386049308478653\n",
      "macro\n",
      "0.5017062723228454\n",
      "precision:\n",
      "micro\n",
      "0.6436363636363637\n",
      "macro\n",
      "0.5314905358176077\n",
      "recall:\n",
      "micro\n",
      "0.6336515513126492\n",
      "macro\n",
      "0.5592795813338908\n",
      "#--\n",
      "-> hamming loss:\n",
      "0.8243973399833749\n",
      "-> uncertain hamming loss:\n",
      "hl 0.806525353283458\n",
      "0.8767664172901081\n",
      "---\n"
     ]
    },
    {
     "name": "stderr",
     "output_type": "stream",
     "text": [
      "/usr/lib/python3.6/site-packages/sklearn/metrics/classification.py:1137: UndefinedMetricWarning: F-score is ill-defined and being set to 0.0 in labels with no true samples.\n",
      "  'recall', 'true', average, warn_for)\n",
      "/usr/lib/python3.6/site-packages/sklearn/metrics/classification.py:1137: UndefinedMetricWarning: Recall is ill-defined and being set to 0.0 in labels with no true samples.\n",
      "  'recall', 'true', average, warn_for)\n",
      "/usr/lib/python3.6/site-packages/ipykernel_launcher.py:10: RuntimeWarning: invalid value encountered in greater_equal\n",
      "  # Remove the CWD from sys.path while we load stuff.\n"
     ]
    },
    {
     "name": "stdout",
     "output_type": "stream",
     "text": [
      "scene\n",
      "----------\n",
      "hamming loss: \n",
      "0.11845386533665836\n",
      "accuracy:\n",
      "0.600997506234414\n",
      "f1 score:\n",
      "micro\n",
      "0.6650998824911869\n",
      "macro\n",
      "0.5136778823344651\n",
      "precision:\n",
      "micro\n",
      "0.6885644768856448\n",
      "macro\n",
      "0.5513059909629657\n",
      "recall:\n",
      "micro\n",
      "0.6431818181818182\n",
      "macro\n",
      "0.5628043519372148\n",
      "#--\n",
      "-> hamming loss:\n",
      "0.8123441396508728\n",
      "-> uncertain hamming loss:\n",
      "hl 0.801330008312552\n",
      "0.8740648379052369\n",
      "---\n",
      "scene: 102.5374 s\n"
     ]
    },
    {
     "name": "stderr",
     "output_type": "stream",
     "text": [
      "/usr/lib/python3.6/site-packages/sklearn/metrics/classification.py:1137: UndefinedMetricWarning: F-score is ill-defined and being set to 0.0 in labels with no true samples.\n",
      "  'recall', 'true', average, warn_for)\n",
      "/usr/lib/python3.6/site-packages/sklearn/metrics/classification.py:1137: UndefinedMetricWarning: Recall is ill-defined and being set to 0.0 in labels with no true samples.\n",
      "  'recall', 'true', average, warn_for)\n",
      "/usr/lib/python3.6/site-packages/ipykernel_launcher.py:10: RuntimeWarning: invalid value encountered in greater_equal\n",
      "  # Remove the CWD from sys.path while we load stuff.\n"
     ]
    },
    {
     "name": "stdout",
     "output_type": "stream",
     "text": [
      "emotions\n",
      "----------\n",
      "hamming loss: \n",
      "0.22895622895622897\n",
      "accuracy:\n",
      "0.2676767676767677\n",
      "f1 score:\n",
      "micro\n",
      "0.6158192090395481\n",
      "macro\n",
      "0.5985015187665419\n",
      "precision:\n",
      "micro\n",
      "0.6055555555555555\n",
      "macro\n",
      "0.589624374202382\n",
      "recall:\n",
      "micro\n",
      "0.6264367816091954\n",
      "macro\n",
      "0.6250433265129983\n",
      "#--\n",
      "-> hamming loss:\n",
      "0.696969696969697\n",
      "-> uncertain hamming loss:\n",
      "hl 0.6818181818181818\n",
      "0.8703703703703703\n",
      "---\n"
     ]
    },
    {
     "name": "stderr",
     "output_type": "stream",
     "text": [
      "/usr/lib/python3.6/site-packages/ipykernel_launcher.py:10: RuntimeWarning: invalid value encountered in greater_equal\n",
      "  # Remove the CWD from sys.path while we load stuff.\n"
     ]
    },
    {
     "name": "stdout",
     "output_type": "stream",
     "text": [
      "emotions\n",
      "----------\n",
      "hamming loss: \n",
      "0.20454545454545456\n",
      "accuracy:\n",
      "0.31313131313131315\n",
      "f1 score:\n",
      "micro\n",
      "0.6840052015604681\n",
      "macro\n",
      "0.6765761650674958\n",
      "precision:\n",
      "micro\n",
      "0.6591478696741855\n",
      "macro\n",
      "0.6626219485578969\n",
      "recall:\n",
      "micro\n",
      "0.7108108108108108\n",
      "macro\n",
      "0.7016075974177568\n",
      "#--\n",
      "-> hamming loss:\n",
      "0.6978114478114478\n",
      "-> uncertain hamming loss:\n",
      "hl 0.6919191919191919\n",
      "0.8627946127946128\n",
      "---\n"
     ]
    },
    {
     "name": "stderr",
     "output_type": "stream",
     "text": [
      "/usr/lib/python3.6/site-packages/ipykernel_launcher.py:10: RuntimeWarning: invalid value encountered in greater_equal\n",
      "  # Remove the CWD from sys.path while we load stuff.\n"
     ]
    },
    {
     "name": "stdout",
     "output_type": "stream",
     "text": [
      "emotions\n",
      "----------\n",
      "hamming loss: \n",
      "0.22504230118443316\n",
      "accuracy:\n",
      "0.3299492385786802\n",
      "f1 score:\n",
      "micro\n",
      "0.6641414141414143\n",
      "macro\n",
      "0.6557884371760067\n",
      "precision:\n",
      "micro\n",
      "0.654228855721393\n",
      "macro\n",
      "0.6513304218336976\n",
      "recall:\n",
      "micro\n",
      "0.6743589743589744\n",
      "macro\n",
      "0.6708924403368504\n",
      "#--\n",
      "-> hamming loss:\n",
      "0.6717428087986463\n",
      "-> uncertain hamming loss:\n",
      "hl 0.6692047377326565\n",
      "0.8384094754653131"
     ]
    },
    {
     "name": "stderr",
     "output_type": "stream",
     "text": [
      "/usr/lib/python3.6/site-packages/ipykernel_launcher.py:10: RuntimeWarning: invalid value encountered in greater_equal\n",
      "  # Remove the CWD from sys.path while we load stuff.\n"
     ]
    },
    {
     "name": "stdout",
     "output_type": "stream",
     "text": [
      "\n",
      "---\n",
      "emotions: 24.7487 s\n",
      "yeast-10\n",
      "----------\n",
      "hamming loss: \n",
      "0.26240694789081886\n",
      "accuracy:\n",
      "0.24937965260545905\n",
      "f1 score:\n",
      "micro\n",
      "0.6665615639287403\n",
      "macro\n",
      "0.5236647356237308\n",
      "precision:\n",
      "micro\n",
      "0.6689873417721519\n",
      "macro\n",
      "0.6197282508072887\n",
      "recall:\n",
      "micro\n",
      "0.6641533144831919\n",
      "macro\n",
      "0.5322258002509063\n",
      "#--\n",
      "-> hamming loss:\n",
      "0.6021091811414392\n",
      "-> uncertain hamming loss:\n",
      "hl 0.6090570719602978\n",
      "0.7326302729528535\n",
      "---\n"
     ]
    },
    {
     "name": "stderr",
     "output_type": "stream",
     "text": [
      "/usr/lib/python3.6/site-packages/ipykernel_launcher.py:10: RuntimeWarning: invalid value encountered in greater_equal\n",
      "  # Remove the CWD from sys.path while we load stuff.\n"
     ]
    },
    {
     "name": "stdout",
     "output_type": "stream",
     "text": [
      "yeast-10\n",
      "----------\n",
      "hamming loss: \n",
      "0.2617866004962779\n",
      "accuracy:\n",
      "0.2555831265508685\n",
      "f1 score:\n",
      "micro\n",
      "0.6690715181932245\n",
      "macro\n",
      "0.5410550818455078\n",
      "precision:\n",
      "micro\n",
      "0.6620111731843575\n",
      "macro\n",
      "0.5831046342848512\n",
      "recall:\n",
      "micro\n",
      "0.676284083703234\n",
      "macro\n",
      "0.5487947153689905\n",
      "#--\n",
      "-> hamming loss:\n",
      "0.6096774193548387\n",
      "-> uncertain hamming loss:\n",
      "hl 0.6207196029776675\n",
      "0.745409429280397\n",
      "---\n"
     ]
    },
    {
     "name": "stderr",
     "output_type": "stream",
     "text": [
      "/usr/lib/python3.6/site-packages/ipykernel_launcher.py:10: RuntimeWarning: invalid value encountered in greater_equal\n",
      "  # Remove the CWD from sys.path while we load stuff.\n"
     ]
    },
    {
     "name": "stdout",
     "output_type": "stream",
     "text": [
      "yeast-10\n",
      "----------\n",
      "hamming loss: \n",
      "0.2645962732919255\n",
      "accuracy:\n",
      "0.24099378881987576\n",
      "f1 score:\n",
      "micro\n",
      "0.6615824594852241\n",
      "macro\n",
      "0.5185915134703674\n",
      "precision:\n",
      "micro\n",
      "0.6622137404580153\n",
      "macro\n",
      "0.5955808883368467\n",
      "recall:\n",
      "micro\n",
      "0.660952380952381\n",
      "macro\n",
      "0.5298387710499571\n",
      "#--\n",
      "-> hamming loss:\n",
      "0.6074534161490683\n",
      "-> uncertain hamming loss:\n"
     ]
    },
    {
     "name": "stderr",
     "output_type": "stream",
     "text": [
      "/usr/lib/python3.6/site-packages/ipykernel_launcher.py:10: RuntimeWarning: invalid value encountered in greater_equal\n",
      "  # Remove the CWD from sys.path while we load stuff.\n"
     ]
    },
    {
     "name": "stdout",
     "output_type": "stream",
     "text": [
      "hl 0.613416149068323\n",
      "0.7366459627329193\n",
      "---\n",
      "yeast-10: 2576.5715 s\n",
      "mediamill-10\n",
      "----------\n",
      "hamming loss: \n",
      "0.184672187715666\n",
      "accuracy:\n",
      "0.21642512077294687\n",
      "f1 score:\n",
      "micro\n",
      "0.6681959651319951\n",
      "macro\n",
      "0.501578406512312\n",
      "precision:\n",
      "micro\n",
      "0.7324326528393182\n",
      "macro\n",
      "0.5980286591128774\n",
      "recall:\n",
      "micro\n",
      "0.6143182854537164\n",
      "macro\n",
      "0.46242688693576983\n",
      "#--\n",
      "-> hamming loss:\n",
      "0.692760524499655\n",
      "-> uncertain hamming loss:\n",
      "hl 0.681456176673568\n",
      "0.8345065562456867\n",
      "---\n",
      "mediamill-10: 15598.5825 s\n"
     ]
    },
    {
     "name": "stderr",
     "output_type": "stream",
     "text": [
      "/usr/lib/python3.6/site-packages/ipykernel_launcher.py:10: RuntimeWarning: invalid value encountered in greater_equal\n",
      "  # Remove the CWD from sys.path while we load stuff.\n"
     ]
    },
    {
     "name": "stdout",
     "output_type": "stream",
     "text": [
      "enron-10\n",
      "----------\n",
      "hamming loss: \n",
      "0.1829225352112676\n",
      "accuracy:\n",
      "0.2323943661971831\n",
      "f1 score:\n",
      "micro\n",
      "0.5384273656152821\n",
      "macro\n",
      "0.435764750175122\n",
      "precision:\n",
      "micro\n",
      "0.6325678496868476\n",
      "macro\n",
      "0.5184902831165241\n",
      "recall:\n",
      "micro\n",
      "0.46867749419953597\n",
      "macro\n",
      "0.3843972259928678\n",
      "#--\n",
      "-> hamming loss:\n",
      "0.7764084507042254\n",
      "-> uncertain hamming loss:\n",
      "hl 0.7767605633802817\n",
      "0.8644366197183099\n",
      "---\n"
     ]
    },
    {
     "name": "stderr",
     "output_type": "stream",
     "text": [
      "/usr/lib/python3.6/site-packages/ipykernel_launcher.py:10: RuntimeWarning: invalid value encountered in greater_equal\n",
      "  # Remove the CWD from sys.path while we load stuff.\n"
     ]
    },
    {
     "name": "stdout",
     "output_type": "stream",
     "text": [
      "enron-10\n",
      "----------\n",
      "hamming loss: \n",
      "0.19647266313932982\n",
      "accuracy:\n",
      "0.12698412698412698\n",
      "f1 score:\n",
      "micro\n",
      "0.5883222468588322\n",
      "macro\n",
      "0.4741030925483677\n",
      "precision:\n",
      "micro\n",
      "0.6209048361934477\n",
      "macro\n",
      "0.5381684414008323\n",
      "recall:\n",
      "micro\n",
      "0.5589887640449438\n",
      "macro\n",
      "0.44449943537594755\n",
      "#--\n",
      "-> hamming loss:\n",
      "0.745679012345679\n",
      "-> uncertain hamming loss:\n",
      "hl 0.735978835978836\n",
      "0.827689594356261\n",
      "---\n"
     ]
    },
    {
     "name": "stderr",
     "output_type": "stream",
     "text": [
      "/usr/lib/python3.6/site-packages/ipykernel_launcher.py:10: RuntimeWarning: invalid value encountered in greater_equal\n",
      "  # Remove the CWD from sys.path while we load stuff.\n"
     ]
    },
    {
     "name": "stdout",
     "output_type": "stream",
     "text": [
      "enron-10\n",
      "----------\n",
      "hamming loss: \n",
      "0.20582010582010582\n",
      "accuracy:\n",
      "0.13756613756613756\n",
      "f1 score:\n",
      "micro\n",
      "0.5794594594594595\n",
      "macro\n",
      "0.44526990126114957\n",
      "precision:\n",
      "micro\n",
      "0.6296006264682851\n",
      "macro\n",
      "0.5400536539191063\n",
      "recall:\n",
      "micro\n",
      "0.5367156208277704\n",
      "macro\n",
      "0.4039492063738136\n",
      "#--\n",
      "-> hamming loss:\n",
      "0.7342151675485009\n",
      "-> uncertain hamming loss:\n",
      "hl 0.7313932980599648\n",
      "0.8225749559082892\n",
      "---\n",
      "enron-10: 1898.1929 s\n"
     ]
    },
    {
     "name": "stderr",
     "output_type": "stream",
     "text": [
      "/usr/lib/python3.6/site-packages/ipykernel_launcher.py:10: RuntimeWarning: invalid value encountered in greater_equal\n",
      "  # Remove the CWD from sys.path while we load stuff.\n"
     ]
    },
    {
     "name": "stdout",
     "output_type": "stream",
     "text": [
      "medical-10\n",
      "----------\n",
      "hamming loss: \n",
      "0.024539877300613498\n",
      "accuracy:\n",
      "0.8006134969325154\n",
      "f1 score:\n",
      "micro\n",
      "0.8566308243727598\n",
      "macro\n",
      "0.8102258489151094\n",
      "precision:\n",
      "micro\n",
      "0.8819188191881919\n",
      "macro\n",
      "0.8988155963368843\n",
      "recall:\n",
      "micro\n",
      "0.8327526132404182\n",
      "macro\n",
      "0.7740713464162173\n",
      "#--\n",
      "-> hamming loss:\n",
      "0.9122699386503067\n",
      "-> uncertain hamming loss:\n",
      "hl 0.9214723926380368\n",
      "0.9475460122699386\n",
      "---\n"
     ]
    },
    {
     "name": "stderr",
     "output_type": "stream",
     "text": [
      "/usr/lib/python3.6/site-packages/ipykernel_launcher.py:10: RuntimeWarning: invalid value encountered in greater_equal\n",
      "  # Remove the CWD from sys.path while we load stuff.\n"
     ]
    },
    {
     "name": "stdout",
     "output_type": "stream",
     "text": [
      "medical-10\n",
      "----------\n",
      "hamming loss: \n",
      "0.026993865030674847\n",
      "accuracy:\n",
      "0.7760736196319018\n",
      "f1 score:\n",
      "micro\n",
      "0.8422939068100358\n",
      "macro\n",
      "0.8224583319906646\n",
      "precision:\n",
      "micro\n",
      "0.8576642335766423\n",
      "macro\n",
      "0.8888894579112089\n",
      "recall:\n",
      "micro\n",
      "0.8274647887323944\n",
      "macro\n",
      "0.7819771827759443\n",
      "#--\n",
      "-> hamming loss:\n",
      "0.9131901840490797\n",
      "-> uncertain hamming loss:\n",
      "hl 0.9220858895705522\n",
      "0.950920245398773\n",
      "---\n"
     ]
    },
    {
     "name": "stderr",
     "output_type": "stream",
     "text": [
      "/usr/lib/python3.6/site-packages/ipykernel_launcher.py:10: RuntimeWarning: invalid value encountered in greater_equal\n",
      "  # Remove the CWD from sys.path while we load stuff.\n"
     ]
    },
    {
     "name": "stdout",
     "output_type": "stream",
     "text": [
      "medical-10\n",
      "----------\n",
      "hamming loss: \n",
      "0.023312883435582823\n",
      "accuracy:\n",
      "0.8159509202453987\n",
      "f1 score:\n",
      "micro\n",
      "0.8707482993197279\n",
      "macro\n",
      "0.8599695627560433\n",
      "precision:\n",
      "micro\n",
      "0.8827586206896552\n",
      "macro\n",
      "0.8888586508368291\n",
      "recall:\n",
      "micro\n",
      "0.8590604026845637\n",
      "macro\n",
      "0.8421959808678734\n",
      "#--\n",
      "-> hamming loss:\n",
      "0.9079754601226994\n",
      "-> uncertain hamming loss:\n",
      "hl 0.9159509202453988\n",
      "0.9447852760736196\n",
      "---\n",
      "medical-10: 1108.5368 s\n"
     ]
    },
    {
     "name": "stderr",
     "output_type": "stream",
     "text": [
      "/usr/lib/python3.6/site-packages/ipykernel_launcher.py:10: RuntimeWarning: invalid value encountered in greater_equal\n",
      "  # Remove the CWD from sys.path while we load stuff.\n"
     ]
    },
    {
     "name": "stdout",
     "output_type": "stream",
     "text": [
      "slashdot-10\n",
      "----------\n",
      "hamming loss: \n",
      "0.06788263283108643\n",
      "accuracy:\n",
      "0.5337034099920698\n",
      "f1 score:\n",
      "micro\n",
      "0.6014897579143389\n",
      "macro\n",
      "0.5146763278526892\n",
      "precision:\n",
      "micro\n",
      "0.7044711014176663\n",
      "macro\n",
      "0.6514087779255074\n",
      "recall:\n",
      "micro\n",
      "0.5247766043866775\n",
      "macro\n",
      "0.44793392484000993\n",
      "#--\n",
      "-> hamming loss:\n",
      "0.901268834258525\n",
      "-> uncertain hamming loss:\n",
      "hl 0.8993655828707375\n",
      "0.9406819984139572\n",
      "---\n"
     ]
    },
    {
     "name": "stderr",
     "output_type": "stream",
     "text": [
      "/usr/lib/python3.6/site-packages/ipykernel_launcher.py:10: RuntimeWarning: invalid value encountered in greater_equal\n",
      "  # Remove the CWD from sys.path while we load stuff.\n"
     ]
    },
    {
     "name": "stdout",
     "output_type": "stream",
     "text": [
      "slashdot-10\n",
      "----------\n",
      "hamming loss: \n",
      "0.06708961141950832\n",
      "accuracy:\n",
      "0.5392545598731165\n",
      "f1 score:\n",
      "micro\n",
      "0.618575293056808\n",
      "macro\n",
      "0.5191657380837792\n",
      "precision:\n",
      "micro\n",
      "0.7251585623678647\n",
      "macro\n",
      "0.6661207743469837\n",
      "recall:\n",
      "micro\n",
      "0.539308176100629\n",
      "macro\n",
      "0.4502203829420616\n",
      "#--\n",
      "-> hamming loss:\n",
      "0.8963521015067407\n",
      "-> uncertain hamming loss:\n",
      "hl 0.8935765265662173\n",
      "0.9351308485329104\n",
      "---\n"
     ]
    },
    {
     "name": "stderr",
     "output_type": "stream",
     "text": [
      "/usr/lib/python3.6/site-packages/ipykernel_launcher.py:10: RuntimeWarning: invalid value encountered in greater_equal\n",
      "  # Remove the CWD from sys.path while we load stuff.\n"
     ]
    },
    {
     "name": "stdout",
     "output_type": "stream",
     "text": [
      "slashdot-10\n",
      "----------\n",
      "hamming loss: \n",
      "0.07626984126984127\n",
      "accuracy:\n",
      "0.48333333333333334\n",
      "f1 score:\n",
      "micro\n",
      "0.5447655139744197\n",
      "macro\n",
      "0.4817306711310329\n",
      "precision:\n",
      "micro\n",
      "0.6410256410256411\n",
      "macro\n",
      "0.6578566334808098\n",
      "recall:\n",
      "micro\n",
      "0.47364085667215816\n",
      "macro\n",
      "0.42093866501103266\n",
      "#--\n",
      "-> hamming loss:\n",
      "0.9015873015873016\n",
      "-> uncertain hamming loss:\n",
      "hl 0.8967460317460317\n",
      "0.9408730158730159\n",
      "---\n",
      "slashdot-10: 4243.5204 s\n"
     ]
    },
    {
     "name": "stderr",
     "output_type": "stream",
     "text": [
      "/usr/lib/python3.6/site-packages/ipykernel_launcher.py:10: RuntimeWarning: invalid value encountered in greater_equal\n",
      "  # Remove the CWD from sys.path while we load stuff.\n"
     ]
    },
    {
     "name": "stdout",
     "output_type": "stream",
     "text": [
      "ohsumed-10\n",
      "----------\n",
      "hamming loss: \n",
      "0.09697628888405482\n",
      "accuracy:\n",
      "0.3630628670872308\n",
      "f1 score:\n",
      "micro\n",
      "0.5613931523022433\n",
      "macro\n",
      "0.5472196469440009\n",
      "precision:\n",
      "micro\n",
      "0.6295233892321271\n",
      "macro\n",
      "0.6166979397061072\n",
      "recall:\n",
      "micro\n",
      "0.5065696022727273\n",
      "macro\n",
      "0.49373552063452186\n",
      "#--\n",
      "-> hamming loss:\n",
      "0.8762236241026756\n",
      "-> uncertain hamming loss:\n",
      "hl 0.8610180552534261\n",
      "0.9226234500761367\n",
      "---\n",
      "ohsumed-10: 5141.6709 s\n"
     ]
    },
    {
     "name": "stderr",
     "output_type": "stream",
     "text": [
      "/usr/lib/python3.6/site-packages/ipykernel_launcher.py:10: RuntimeWarning: invalid value encountered in greater_equal\n",
      "  # Remove the CWD from sys.path while we load stuff.\n"
     ]
    },
    {
     "name": "stdout",
     "output_type": "stream",
     "text": [
      "tmc2007-500-10\n",
      "----------\n",
      "hamming loss: \n",
      "0.10256437427148458\n",
      "accuracy:\n",
      "0.3837024478118046\n",
      "f1 score:\n",
      "micro\n",
      "0.7220036189217911\n",
      "macro\n",
      "0.6614089365203334\n",
      "precision:\n",
      "micro\n",
      "0.7467324144486692\n",
      "macro\n",
      "0.7273738899312006\n",
      "recall:\n",
      "micro\n",
      "0.6988601612454823\n",
      "macro\n",
      "0.6177292371971519\n",
      "#--\n",
      "-> hamming loss:\n",
      "0.8100349687400658\n",
      "-> uncertain hamming loss:\n",
      "hl 0.8144855356575182\n",
      "0.9132563314612695\n",
      "---\n",
      "tmc2007-500-10: 10393.4316 s\n"
     ]
    },
    {
     "name": "stderr",
     "output_type": "stream",
     "text": [
      "/usr/lib/python3.6/site-packages/ipykernel_launcher.py:10: RuntimeWarning: invalid value encountered in greater_equal\n",
      "  # Remove the CWD from sys.path while we load stuff.\n"
     ]
    }
   ],
   "source": [
    "splits = {}\n",
    "\n",
    "for ds in DATA_SETS:\n",
    "    tic = time.time()\n",
    "    data = load_data(ds)\n",
    "\n",
    "    try:\n",
    "        # FIXME: ohsumed cannot be unpacked like the others\n",
    "        if len(data) == 1:\n",
    "            data = data[0]\n",
    "            \n",
    "        assert len(data) == 2\n",
    "\n",
    "        if data[1].shape[1] > 10:\n",
    "            X, y = data\n",
    "            y = sample_down_label_space(y, 10)\n",
    "        else:\n",
    "            X, y = data\n",
    "        \n",
    "        X = X.toarray()\n",
    "        y = y.toarray()\n",
    "\n",
    "        if X.shape[0] >= 10000:\n",
    "            # 66% split\n",
    "            X_train, X_test, y_train, y_test = train_test_split(X, y,\n",
    "                                                                test_size=0.33,\n",
    "                                                                random_state=seed)\n",
    "            clf = ProbabilisticClassifierChain(LogisticRegression())\n",
    "            pcc = clone(clf)\n",
    "\n",
    "            pcc.fit(X_train, y_train)\n",
    "            y_pred = pcc.predict(X_test)\n",
    "            y_pred_pp = pcc.predict_proba(X_test)\n",
    "            y_pred_pp = y_pred_pp.reshape(y_pred_pp.shape[0], y_pred_pp.shape[2])\n",
    "            print(ds)\n",
    "            evaluate(y_test, y_pred, y_pred_pp)\n",
    "\n",
    "        else:\n",
    "            kf = KFold(random_state=seed)\n",
    "            results = []\n",
    "\n",
    "            for train_index, test_index in kf.split(X):\n",
    "                clf = ProbabilisticClassifierChain(LogisticRegression())\n",
    "                X_train = X[train_index]\n",
    "                X_test = X[test_index]\n",
    "                y_train = y[train_index]\n",
    "                y_test = y[test_index]\n",
    "\n",
    "                # FIXME:\n",
    "                # idxs.append((train_index, test_index))\n",
    "                pcc = clone(clf)\n",
    "\n",
    "                pcc.fit(X_train, y_train)\n",
    "                y_pred = pcc.predict(X_test)\n",
    "                y_pred_pp = pcc.predict_proba(X_test)\n",
    "                y_pred_pp = y_pred_pp.reshape(y_pred_pp.shape[0], y_pred_pp.shape[2])\n",
    "\n",
    "                # FIXME:\n",
    "                # results.append((y_pred, y_pred_pp))\n",
    "                print(ds)\n",
    "                evaluate(y_test, y_pred, y_pred_pp)\n",
    "    except Exception as e:\n",
    "        print(e)\n",
    "\n",
    "    toc = time.time()\n",
    "    print(\"{}: {:.4f} s\".format(ds, toc - tic))"
   ]
  },
  {
   "cell_type": "code",
   "execution_count": null,
   "metadata": {},
   "outputs": [],
   "source": []
  },
  {
   "cell_type": "code",
   "execution_count": null,
   "metadata": {},
   "outputs": [],
   "source": []
  },
  {
   "cell_type": "code",
   "execution_count": 41,
   "metadata": {},
   "outputs": [],
   "source": [
    "clf = ProbabilisticClassifierChain(LogisticRegression())"
   ]
  },
  {
   "cell_type": "code",
   "execution_count": 71,
   "metadata": {},
   "outputs": [],
   "source": [
    "X_train, y_train = np.array([[2,4], [1,3], [6,8], [5,7], [1,1]]), np.array([[1, 1, 1], [0, 1, 0], [1, 1, 1], [0, 1, 0], [1,0,1]])"
   ]
  },
  {
   "cell_type": "code",
   "execution_count": 72,
   "metadata": {},
   "outputs": [],
   "source": [
    "clf.fit(X_train, y_train)"
   ]
  },
  {
   "cell_type": "code",
   "execution_count": 88,
   "metadata": {},
   "outputs": [
    {
     "ename": "ValueError",
     "evalue": "X has 1 features per sample; expecting 2",
     "output_type": "error",
     "traceback": [
      "\u001b[0;31m---------------------------------------------------------------------------\u001b[0m",
      "\u001b[0;31mValueError\u001b[0m                                Traceback (most recent call last)",
      "\u001b[0;32m<ipython-input-88-34b26ad1e20e>\u001b[0m in \u001b[0;36m<module>\u001b[0;34m()\u001b[0m\n\u001b[0;32m----> 1\u001b[0;31m \u001b[0myp\u001b[0m \u001b[0;34m=\u001b[0m \u001b[0mclf\u001b[0m\u001b[0;34m.\u001b[0m\u001b[0mpredict\u001b[0m\u001b[0;34m(\u001b[0m\u001b[0mX_train\u001b[0m\u001b[0;34m[\u001b[0m\u001b[0;36m1\u001b[0m\u001b[0;34m,\u001b[0m\u001b[0;34m:\u001b[0m\u001b[0;34m]\u001b[0m\u001b[0;34m)\u001b[0m\u001b[0;34m\u001b[0m\u001b[0m\n\u001b[0m",
      "\u001b[0;32m~/Documents/dev/skml/skml/problem_transformation/probabilistic_classifier_chain.py\u001b[0m in \u001b[0;36mpredict\u001b[0;34m(self, X)\u001b[0m\n\u001b[1;32m    106\u001b[0m                     \"\"\"\n\u001b[1;32m    107\u001b[0m                     \u001b[0;32mif\u001b[0m \u001b[0mi\u001b[0m \u001b[0;34m==\u001b[0m \u001b[0;36m0\u001b[0m\u001b[0;34m:\u001b[0m\u001b[0;34m\u001b[0m\u001b[0m\n\u001b[0;32m--> 108\u001b[0;31m                         \u001b[0mp\u001b[0m\u001b[0;34m[\u001b[0m\u001b[0;36m0\u001b[0m\u001b[0;34m,\u001b[0m \u001b[0mi\u001b[0m\u001b[0;34m]\u001b[0m \u001b[0;34m=\u001b[0m \u001b[0mc\u001b[0m\u001b[0;34m.\u001b[0m\u001b[0mpredict_proba\u001b[0m\u001b[0;34m(\u001b[0m\u001b[0mx\u001b[0m\u001b[0;34m)\u001b[0m\u001b[0;34m[\u001b[0m\u001b[0;36m0\u001b[0m\u001b[0;34m]\u001b[0m\u001b[0;34m[\u001b[0m\u001b[0my\u001b[0m\u001b[0;34m[\u001b[0m\u001b[0mi\u001b[0m\u001b[0;34m]\u001b[0m\u001b[0;34m]\u001b[0m\u001b[0;34m\u001b[0m\u001b[0m\n\u001b[0m\u001b[1;32m    109\u001b[0m                     \u001b[0;32melse\u001b[0m\u001b[0;34m:\u001b[0m\u001b[0;34m\u001b[0m\u001b[0m\n\u001b[1;32m    110\u001b[0m                         \u001b[0mstacked\u001b[0m \u001b[0;34m=\u001b[0m \u001b[0mnp\u001b[0m\u001b[0;34m.\u001b[0m\u001b[0mhstack\u001b[0m\u001b[0;34m(\u001b[0m\u001b[0;34m(\u001b[0m\u001b[0mx\u001b[0m\u001b[0;34m,\u001b[0m \u001b[0my\u001b[0m\u001b[0;34m[\u001b[0m\u001b[0;34m:\u001b[0m\u001b[0mi\u001b[0m\u001b[0;34m]\u001b[0m\u001b[0;34m.\u001b[0m\u001b[0mreshape\u001b[0m\u001b[0;34m(\u001b[0m\u001b[0;36m1\u001b[0m\u001b[0;34m,\u001b[0m \u001b[0;34m-\u001b[0m\u001b[0;36m1\u001b[0m\u001b[0;34m)\u001b[0m\u001b[0;34m)\u001b[0m\u001b[0;34m)\u001b[0m\u001b[0;31m \u001b[0m\u001b[0;31m\\\u001b[0m\u001b[0;34m\u001b[0m\u001b[0m\n",
      "\u001b[0;32m/usr/lib/python3.6/site-packages/sklearn/linear_model/logistic.py\u001b[0m in \u001b[0;36mpredict_proba\u001b[0;34m(self, X)\u001b[0m\n\u001b[1;32m   1334\u001b[0m         \u001b[0mcalculate_ovr\u001b[0m \u001b[0;34m=\u001b[0m \u001b[0mself\u001b[0m\u001b[0;34m.\u001b[0m\u001b[0mcoef_\u001b[0m\u001b[0;34m.\u001b[0m\u001b[0mshape\u001b[0m\u001b[0;34m[\u001b[0m\u001b[0;36m0\u001b[0m\u001b[0;34m]\u001b[0m \u001b[0;34m==\u001b[0m \u001b[0;36m1\u001b[0m \u001b[0;32mor\u001b[0m \u001b[0mself\u001b[0m\u001b[0;34m.\u001b[0m\u001b[0mmulti_class\u001b[0m \u001b[0;34m==\u001b[0m \u001b[0;34m\"ovr\"\u001b[0m\u001b[0;34m\u001b[0m\u001b[0m\n\u001b[1;32m   1335\u001b[0m         \u001b[0;32mif\u001b[0m \u001b[0mcalculate_ovr\u001b[0m\u001b[0;34m:\u001b[0m\u001b[0;34m\u001b[0m\u001b[0m\n\u001b[0;32m-> 1336\u001b[0;31m             \u001b[0;32mreturn\u001b[0m \u001b[0msuper\u001b[0m\u001b[0;34m(\u001b[0m\u001b[0mLogisticRegression\u001b[0m\u001b[0;34m,\u001b[0m \u001b[0mself\u001b[0m\u001b[0;34m)\u001b[0m\u001b[0;34m.\u001b[0m\u001b[0m_predict_proba_lr\u001b[0m\u001b[0;34m(\u001b[0m\u001b[0mX\u001b[0m\u001b[0;34m)\u001b[0m\u001b[0;34m\u001b[0m\u001b[0m\n\u001b[0m\u001b[1;32m   1337\u001b[0m         \u001b[0;32melse\u001b[0m\u001b[0;34m:\u001b[0m\u001b[0;34m\u001b[0m\u001b[0m\n\u001b[1;32m   1338\u001b[0m             \u001b[0;32mreturn\u001b[0m \u001b[0msoftmax\u001b[0m\u001b[0;34m(\u001b[0m\u001b[0mself\u001b[0m\u001b[0;34m.\u001b[0m\u001b[0mdecision_function\u001b[0m\u001b[0;34m(\u001b[0m\u001b[0mX\u001b[0m\u001b[0;34m)\u001b[0m\u001b[0;34m,\u001b[0m \u001b[0mcopy\u001b[0m\u001b[0;34m=\u001b[0m\u001b[0;32mFalse\u001b[0m\u001b[0;34m)\u001b[0m\u001b[0;34m\u001b[0m\u001b[0m\n",
      "\u001b[0;32m/usr/lib/python3.6/site-packages/sklearn/linear_model/base.py\u001b[0m in \u001b[0;36m_predict_proba_lr\u001b[0;34m(self, X)\u001b[0m\n\u001b[1;32m    336\u001b[0m         \u001b[0mmulticlass\u001b[0m \u001b[0;32mis\u001b[0m \u001b[0mhandled\u001b[0m \u001b[0mby\u001b[0m \u001b[0mnormalizing\u001b[0m \u001b[0mthat\u001b[0m \u001b[0mover\u001b[0m \u001b[0mall\u001b[0m \u001b[0mclasses\u001b[0m\u001b[0;34m.\u001b[0m\u001b[0;34m\u001b[0m\u001b[0m\n\u001b[1;32m    337\u001b[0m         \"\"\"\n\u001b[0;32m--> 338\u001b[0;31m         \u001b[0mprob\u001b[0m \u001b[0;34m=\u001b[0m \u001b[0mself\u001b[0m\u001b[0;34m.\u001b[0m\u001b[0mdecision_function\u001b[0m\u001b[0;34m(\u001b[0m\u001b[0mX\u001b[0m\u001b[0;34m)\u001b[0m\u001b[0;34m\u001b[0m\u001b[0m\n\u001b[0m\u001b[1;32m    339\u001b[0m         \u001b[0mprob\u001b[0m \u001b[0;34m*=\u001b[0m \u001b[0;34m-\u001b[0m\u001b[0;36m1\u001b[0m\u001b[0;34m\u001b[0m\u001b[0m\n\u001b[1;32m    340\u001b[0m         \u001b[0mnp\u001b[0m\u001b[0;34m.\u001b[0m\u001b[0mexp\u001b[0m\u001b[0;34m(\u001b[0m\u001b[0mprob\u001b[0m\u001b[0;34m,\u001b[0m \u001b[0mprob\u001b[0m\u001b[0;34m)\u001b[0m\u001b[0;34m\u001b[0m\u001b[0m\n",
      "\u001b[0;32m/usr/lib/python3.6/site-packages/sklearn/linear_model/base.py\u001b[0m in \u001b[0;36mdecision_function\u001b[0;34m(self, X)\u001b[0m\n\u001b[1;32m    303\u001b[0m         \u001b[0;32mif\u001b[0m \u001b[0mX\u001b[0m\u001b[0;34m.\u001b[0m\u001b[0mshape\u001b[0m\u001b[0;34m[\u001b[0m\u001b[0;36m1\u001b[0m\u001b[0;34m]\u001b[0m \u001b[0;34m!=\u001b[0m \u001b[0mn_features\u001b[0m\u001b[0;34m:\u001b[0m\u001b[0;34m\u001b[0m\u001b[0m\n\u001b[1;32m    304\u001b[0m             raise ValueError(\"X has %d features per sample; expecting %d\"\n\u001b[0;32m--> 305\u001b[0;31m                              % (X.shape[1], n_features))\n\u001b[0m\u001b[1;32m    306\u001b[0m \u001b[0;34m\u001b[0m\u001b[0m\n\u001b[1;32m    307\u001b[0m         scores = safe_sparse_dot(X, self.coef_.T,\n",
      "\u001b[0;31mValueError\u001b[0m: X has 1 features per sample; expecting 2"
     ]
    }
   ],
   "source": [
    "yp = clf.predict(X_train[1,:])"
   ]
  },
  {
   "cell_type": "code",
   "execution_count": 75,
   "metadata": {},
   "outputs": [
    {
     "ename": "ValueError",
     "evalue": "X has 3 features per sample; expecting 2",
     "output_type": "error",
     "traceback": [
      "\u001b[0;31m---------------------------------------------------------------------------\u001b[0m",
      "\u001b[0;31mValueError\u001b[0m                                Traceback (most recent call last)",
      "\u001b[0;32m<ipython-input-75-b0fbbf2c1e26>\u001b[0m in \u001b[0;36m<module>\u001b[0;34m()\u001b[0m\n\u001b[0;32m----> 1\u001b[0;31m \u001b[0mypp\u001b[0m \u001b[0;34m=\u001b[0m \u001b[0mclf\u001b[0m\u001b[0;34m.\u001b[0m\u001b[0mpredict_proba\u001b[0m\u001b[0;34m(\u001b[0m\u001b[0mX_train\u001b[0m\u001b[0;34m)\u001b[0m\u001b[0;34m\u001b[0m\u001b[0m\n\u001b[0m",
      "\u001b[0;32m~/Documents/dev/skml/skml/problem_transformation/probabilistic_classifier_chain.py\u001b[0m in \u001b[0;36mpredict_proba\u001b[0;34m(self, X)\u001b[0m\n\u001b[1;32m    156\u001b[0m                         \u001b[0mstacked\u001b[0m \u001b[0;34m=\u001b[0m \u001b[0mnp\u001b[0m\u001b[0;34m.\u001b[0m\u001b[0mhstack\u001b[0m\u001b[0;34m(\u001b[0m\u001b[0;34m(\u001b[0m\u001b[0mx\u001b[0m\u001b[0;34m,\u001b[0m \u001b[0my\u001b[0m\u001b[0;34m[\u001b[0m\u001b[0;34m:\u001b[0m\u001b[0mi\u001b[0m\u001b[0;34m]\u001b[0m\u001b[0;34m.\u001b[0m\u001b[0mreshape\u001b[0m\u001b[0;34m(\u001b[0m\u001b[0;36m1\u001b[0m\u001b[0;34m,\u001b[0m \u001b[0;34m-\u001b[0m\u001b[0;36m1\u001b[0m\u001b[0;34m)\u001b[0m\u001b[0;34m)\u001b[0m\u001b[0;34m)\u001b[0m\u001b[0;31m \u001b[0m\u001b[0;31m\\\u001b[0m\u001b[0;34m\u001b[0m\u001b[0m\n\u001b[1;32m    157\u001b[0m                             \u001b[0;34m.\u001b[0m\u001b[0mreshape\u001b[0m\u001b[0;34m(\u001b[0m\u001b[0;36m1\u001b[0m\u001b[0;34m,\u001b[0m \u001b[0;34m-\u001b[0m\u001b[0;36m1\u001b[0m\u001b[0;34m)\u001b[0m\u001b[0;34m\u001b[0m\u001b[0m\n\u001b[0;32m--> 158\u001b[0;31m                         \u001b[0mp\u001b[0m\u001b[0;34m[\u001b[0m\u001b[0;36m0\u001b[0m\u001b[0;34m,\u001b[0m \u001b[0mi\u001b[0m\u001b[0;34m]\u001b[0m \u001b[0;34m=\u001b[0m \u001b[0mc\u001b[0m\u001b[0;34m.\u001b[0m\u001b[0mpredict_proba\u001b[0m\u001b[0;34m(\u001b[0m\u001b[0mstacked\u001b[0m\u001b[0;34m)\u001b[0m\u001b[0;34m[\u001b[0m\u001b[0;36m0\u001b[0m\u001b[0;34m]\u001b[0m\u001b[0;34m[\u001b[0m\u001b[0my\u001b[0m\u001b[0;34m[\u001b[0m\u001b[0mi\u001b[0m\u001b[0;34m]\u001b[0m\u001b[0;34m]\u001b[0m\u001b[0;34m\u001b[0m\u001b[0m\n\u001b[0m\u001b[1;32m    159\u001b[0m \u001b[0;34m\u001b[0m\u001b[0m\n\u001b[1;32m    160\u001b[0m                 \u001b[0mpp\u001b[0m \u001b[0;34m=\u001b[0m \u001b[0mnp\u001b[0m\u001b[0;34m.\u001b[0m\u001b[0mprod\u001b[0m\u001b[0;34m(\u001b[0m\u001b[0mp\u001b[0m\u001b[0;34m)\u001b[0m\u001b[0;34m\u001b[0m\u001b[0m\n",
      "\u001b[0;32m/usr/lib/python3.6/site-packages/sklearn/linear_model/logistic.py\u001b[0m in \u001b[0;36mpredict_proba\u001b[0;34m(self, X)\u001b[0m\n\u001b[1;32m   1334\u001b[0m         \u001b[0mcalculate_ovr\u001b[0m \u001b[0;34m=\u001b[0m \u001b[0mself\u001b[0m\u001b[0;34m.\u001b[0m\u001b[0mcoef_\u001b[0m\u001b[0;34m.\u001b[0m\u001b[0mshape\u001b[0m\u001b[0;34m[\u001b[0m\u001b[0;36m0\u001b[0m\u001b[0;34m]\u001b[0m \u001b[0;34m==\u001b[0m \u001b[0;36m1\u001b[0m \u001b[0;32mor\u001b[0m \u001b[0mself\u001b[0m\u001b[0;34m.\u001b[0m\u001b[0mmulti_class\u001b[0m \u001b[0;34m==\u001b[0m \u001b[0;34m\"ovr\"\u001b[0m\u001b[0;34m\u001b[0m\u001b[0m\n\u001b[1;32m   1335\u001b[0m         \u001b[0;32mif\u001b[0m \u001b[0mcalculate_ovr\u001b[0m\u001b[0;34m:\u001b[0m\u001b[0;34m\u001b[0m\u001b[0m\n\u001b[0;32m-> 1336\u001b[0;31m             \u001b[0;32mreturn\u001b[0m \u001b[0msuper\u001b[0m\u001b[0;34m(\u001b[0m\u001b[0mLogisticRegression\u001b[0m\u001b[0;34m,\u001b[0m \u001b[0mself\u001b[0m\u001b[0;34m)\u001b[0m\u001b[0;34m.\u001b[0m\u001b[0m_predict_proba_lr\u001b[0m\u001b[0;34m(\u001b[0m\u001b[0mX\u001b[0m\u001b[0;34m)\u001b[0m\u001b[0;34m\u001b[0m\u001b[0m\n\u001b[0m\u001b[1;32m   1337\u001b[0m         \u001b[0;32melse\u001b[0m\u001b[0;34m:\u001b[0m\u001b[0;34m\u001b[0m\u001b[0m\n\u001b[1;32m   1338\u001b[0m             \u001b[0;32mreturn\u001b[0m \u001b[0msoftmax\u001b[0m\u001b[0;34m(\u001b[0m\u001b[0mself\u001b[0m\u001b[0;34m.\u001b[0m\u001b[0mdecision_function\u001b[0m\u001b[0;34m(\u001b[0m\u001b[0mX\u001b[0m\u001b[0;34m)\u001b[0m\u001b[0;34m,\u001b[0m \u001b[0mcopy\u001b[0m\u001b[0;34m=\u001b[0m\u001b[0;32mFalse\u001b[0m\u001b[0;34m)\u001b[0m\u001b[0;34m\u001b[0m\u001b[0m\n",
      "\u001b[0;32m/usr/lib/python3.6/site-packages/sklearn/linear_model/base.py\u001b[0m in \u001b[0;36m_predict_proba_lr\u001b[0;34m(self, X)\u001b[0m\n\u001b[1;32m    336\u001b[0m         \u001b[0mmulticlass\u001b[0m \u001b[0;32mis\u001b[0m \u001b[0mhandled\u001b[0m \u001b[0mby\u001b[0m \u001b[0mnormalizing\u001b[0m \u001b[0mthat\u001b[0m \u001b[0mover\u001b[0m \u001b[0mall\u001b[0m \u001b[0mclasses\u001b[0m\u001b[0;34m.\u001b[0m\u001b[0;34m\u001b[0m\u001b[0m\n\u001b[1;32m    337\u001b[0m         \"\"\"\n\u001b[0;32m--> 338\u001b[0;31m         \u001b[0mprob\u001b[0m \u001b[0;34m=\u001b[0m \u001b[0mself\u001b[0m\u001b[0;34m.\u001b[0m\u001b[0mdecision_function\u001b[0m\u001b[0;34m(\u001b[0m\u001b[0mX\u001b[0m\u001b[0;34m)\u001b[0m\u001b[0;34m\u001b[0m\u001b[0m\n\u001b[0m\u001b[1;32m    339\u001b[0m         \u001b[0mprob\u001b[0m \u001b[0;34m*=\u001b[0m \u001b[0;34m-\u001b[0m\u001b[0;36m1\u001b[0m\u001b[0;34m\u001b[0m\u001b[0m\n\u001b[1;32m    340\u001b[0m         \u001b[0mnp\u001b[0m\u001b[0;34m.\u001b[0m\u001b[0mexp\u001b[0m\u001b[0;34m(\u001b[0m\u001b[0mprob\u001b[0m\u001b[0;34m,\u001b[0m \u001b[0mprob\u001b[0m\u001b[0;34m)\u001b[0m\u001b[0;34m\u001b[0m\u001b[0m\n",
      "\u001b[0;32m/usr/lib/python3.6/site-packages/sklearn/linear_model/base.py\u001b[0m in \u001b[0;36mdecision_function\u001b[0;34m(self, X)\u001b[0m\n\u001b[1;32m    303\u001b[0m         \u001b[0;32mif\u001b[0m \u001b[0mX\u001b[0m\u001b[0;34m.\u001b[0m\u001b[0mshape\u001b[0m\u001b[0;34m[\u001b[0m\u001b[0;36m1\u001b[0m\u001b[0;34m]\u001b[0m \u001b[0;34m!=\u001b[0m \u001b[0mn_features\u001b[0m\u001b[0;34m:\u001b[0m\u001b[0;34m\u001b[0m\u001b[0m\n\u001b[1;32m    304\u001b[0m             raise ValueError(\"X has %d features per sample; expecting %d\"\n\u001b[0;32m--> 305\u001b[0;31m                              % (X.shape[1], n_features))\n\u001b[0m\u001b[1;32m    306\u001b[0m \u001b[0;34m\u001b[0m\u001b[0m\n\u001b[1;32m    307\u001b[0m         scores = safe_sparse_dot(X, self.coef_.T,\n",
      "\u001b[0;31mValueError\u001b[0m: X has 3 features per sample; expecting 2"
     ]
    }
   ],
   "source": [
    "ypp = clf.predict_proba(X_train)"
   ]
  },
  {
   "cell_type": "code",
   "execution_count": 101,
   "metadata": {},
   "outputs": [
    {
     "data": {
      "text/plain": [
       "LogisticRegression(C=1.0, class_weight=None, dual=False, fit_intercept=True,\n",
       "          intercept_scaling=1, max_iter=100, multi_class='ovr', n_jobs=1,\n",
       "          penalty='l2', random_state=None, solver='liblinear', tol=0.0001,\n",
       "          verbose=0, warm_start=False)"
      ]
     },
     "execution_count": 101,
     "metadata": {},
     "output_type": "execute_result"
    }
   ],
   "source": [
    "lr = LogisticRegression()\n",
    "lr.fit(np.hstack((X_train, y_train[:, :2])), y_train[:, 2])"
   ]
  },
  {
   "cell_type": "code",
   "execution_count": 106,
   "metadata": {},
   "outputs": [
    {
     "name": "stdout",
     "output_type": "stream",
     "text": [
      "[[0.35618938 0.64381062]\n",
      " [0.5949257  0.4050743 ]\n",
      " [0.31517492 0.68482508]\n",
      " [0.54990142 0.45009858]\n",
      " [0.25894644 0.74105356]]\n",
      "[[0 1]\n",
      " [1 0]\n",
      " [0 1]\n",
      " [1 0]\n",
      " [0 1]]\n"
     ]
    }
   ],
   "source": [
    "ypp = lr.predict_proba(np.hstack((X_train, y_train[:, :2])))\n",
    "print(ypp)\n",
    "print((ypp >= .5).astype(int))"
   ]
  },
  {
   "cell_type": "code",
   "execution_count": null,
   "metadata": {},
   "outputs": [],
   "source": [
    "for b in range(2 ** 2):\n",
    "    y = np.array(list(map(int, np.binary_repr(b, width=2))))"
   ]
  },
  {
   "cell_type": "code",
   "execution_count": 8,
   "metadata": {},
   "outputs": [],
   "source": [
    "data = load_data('scene')"
   ]
  },
  {
   "cell_type": "code",
   "execution_count": 9,
   "metadata": {},
   "outputs": [],
   "source": [
    "X, y = data\n",
    "\n",
    "X = X.toarray()\n",
    "y = y.toarray()"
   ]
  },
  {
   "cell_type": "code",
   "execution_count": 10,
   "metadata": {},
   "outputs": [
    {
     "ename": "NameError",
     "evalue": "name 'ds' is not defined",
     "output_type": "error",
     "traceback": [
      "\u001b[0;31m---------------------------------------------------------------------------\u001b[0m",
      "\u001b[0;31mNameError\u001b[0m                                 Traceback (most recent call last)",
      "\u001b[0;32m<ipython-input-10-01dbcc9de828>\u001b[0m in \u001b[0;36m<module>\u001b[0;34m()\u001b[0m\n\u001b[1;32m      6\u001b[0m \u001b[0my_pred_pp\u001b[0m \u001b[0;34m=\u001b[0m \u001b[0mpcc\u001b[0m\u001b[0;34m.\u001b[0m\u001b[0mpredict_proba\u001b[0m\u001b[0;34m(\u001b[0m\u001b[0mX_test\u001b[0m\u001b[0;34m)\u001b[0m\u001b[0;34m\u001b[0m\u001b[0m\n\u001b[1;32m      7\u001b[0m \u001b[0;31m# y_pred_pp = y_pred_pp.reshape(y_pred_pp.shape[0], y_pred_pp.shape[2])\u001b[0m\u001b[0;34m\u001b[0m\u001b[0;34m\u001b[0m\u001b[0m\n\u001b[0;32m----> 8\u001b[0;31m \u001b[0mprint\u001b[0m\u001b[0;34m(\u001b[0m\u001b[0mds\u001b[0m\u001b[0;34m)\u001b[0m\u001b[0;34m\u001b[0m\u001b[0m\n\u001b[0m\u001b[1;32m      9\u001b[0m \u001b[0mevaluate\u001b[0m\u001b[0;34m(\u001b[0m\u001b[0my_test\u001b[0m\u001b[0;34m,\u001b[0m \u001b[0my_pred\u001b[0m\u001b[0;34m,\u001b[0m \u001b[0my_pred_pp\u001b[0m\u001b[0;34m)\u001b[0m\u001b[0;34m\u001b[0m\u001b[0m\n",
      "\u001b[0;31mNameError\u001b[0m: name 'ds' is not defined"
     ]
    }
   ],
   "source": [
    "X_train, X_test, y_train, y_test = train_test_split(X, y, test_size=0.33, random_state=seed)\n",
    "pcc = ProbabilisticClassifierChain(LogisticRegression())\n",
    "\n",
    "pcc.fit(X_train, y_train)\n",
    "y_pred = pcc.predict(X_test)\n",
    "y_pred_pp = pcc.predict_proba(X_test)\n",
    "# y_pred_pp = y_pred_pp.reshape(y_pred_pp.shape[0], y_pred_pp.shape[2])\n",
    "print(ds)\n",
    "evaluate(y_test, y_pred, y_pred_pp)"
   ]
  },
  {
   "cell_type": "code",
   "execution_count": 13,
   "metadata": {},
   "outputs": [
    {
     "name": "stdout",
     "output_type": "stream",
     "text": [
      "----------\n",
      "hamming loss: \n",
      "0.10083857442348008\n",
      "accuracy:\n",
      "0.6666666666666666\n",
      "f1 score:\n",
      "micro\n",
      "0.7124925283921101\n",
      "macro\n",
      "0.728823733607503\n",
      "precision:\n",
      "micro\n",
      "0.7286063569682152\n",
      "macro\n",
      "0.7447985584327671\n",
      "recall:\n",
      "micro\n",
      "0.6970760233918128\n",
      "macro\n",
      "0.7156021459869816\n",
      "#--\n",
      "-> hamming loss:\n"
     ]
    },
    {
     "ename": "ValueError",
     "evalue": "Classification metrics can't handle a mix of multilabel-indicator and unknown targets",
     "output_type": "error",
     "traceback": [
      "\u001b[0;31m---------------------------------------------------------------------------\u001b[0m",
      "\u001b[0;31mValueError\u001b[0m                                Traceback (most recent call last)",
      "\u001b[0;32m<ipython-input-13-e429a035bc55>\u001b[0m in \u001b[0;36m<module>\u001b[0;34m()\u001b[0m\n\u001b[0;32m----> 1\u001b[0;31m \u001b[0mevaluate\u001b[0m\u001b[0;34m(\u001b[0m\u001b[0my_test\u001b[0m\u001b[0;34m,\u001b[0m \u001b[0my_pred\u001b[0m\u001b[0;34m,\u001b[0m \u001b[0my_pred_pp\u001b[0m\u001b[0;34m)\u001b[0m\u001b[0;34m\u001b[0m\u001b[0m\n\u001b[0m",
      "\u001b[0;32m<ipython-input-11-ec1e2c6ec59c>\u001b[0m in \u001b[0;36mevaluate\u001b[0;34m(y_test, y_pred, y_pred_pp)\u001b[0m\n\u001b[1;32m     28\u001b[0m     \u001b[0mprint\u001b[0m\u001b[0;34m(\u001b[0m\u001b[0;34m\"#--\"\u001b[0m\u001b[0;34m)\u001b[0m\u001b[0;34m\u001b[0m\u001b[0m\n\u001b[1;32m     29\u001b[0m     \u001b[0mprint\u001b[0m\u001b[0;34m(\u001b[0m\u001b[0;34m\"-> hamming loss:\"\u001b[0m\u001b[0;34m)\u001b[0m\u001b[0;34m\u001b[0m\u001b[0m\n\u001b[0;32m---> 30\u001b[0;31m     \u001b[0mprint\u001b[0m\u001b[0;34m(\u001b[0m\u001b[0mhamming_loss\u001b[0m\u001b[0;34m(\u001b[0m\u001b[0my_test\u001b[0m\u001b[0;34m,\u001b[0m \u001b[0;34m(\u001b[0m\u001b[0my_pred_pp\u001b[0m \u001b[0;34m>=\u001b[0m \u001b[0;36m.5\u001b[0m\u001b[0;34m)\u001b[0m\u001b[0;34m)\u001b[0m\u001b[0;34m)\u001b[0m\u001b[0;34m\u001b[0m\u001b[0m\n\u001b[0m\u001b[1;32m     31\u001b[0m     \u001b[0mprint\u001b[0m\u001b[0;34m(\u001b[0m\u001b[0;34m\"-> uncertain hamming loss:\"\u001b[0m\u001b[0;34m)\u001b[0m\u001b[0;34m\u001b[0m\u001b[0m\n\u001b[1;32m     32\u001b[0m     \u001b[0mprint\u001b[0m\u001b[0;34m(\u001b[0m\u001b[0muncertain_hamming_loss\u001b[0m\u001b[0;34m(\u001b[0m\u001b[0my_test\u001b[0m\u001b[0;34m,\u001b[0m \u001b[0my_pred_pp\u001b[0m\u001b[0;34m)\u001b[0m\u001b[0;34m)\u001b[0m\u001b[0;34m\u001b[0m\u001b[0m\n",
      "\u001b[0;32m/usr/lib/python3.6/site-packages/sklearn/metrics/classification.py\u001b[0m in \u001b[0;36mhamming_loss\u001b[0;34m(y_true, y_pred, labels, sample_weight, classes)\u001b[0m\n\u001b[1;32m   1550\u001b[0m         \u001b[0mlabels\u001b[0m \u001b[0;34m=\u001b[0m \u001b[0mclasses\u001b[0m\u001b[0;34m\u001b[0m\u001b[0m\n\u001b[1;32m   1551\u001b[0m \u001b[0;34m\u001b[0m\u001b[0m\n\u001b[0;32m-> 1552\u001b[0;31m     \u001b[0my_type\u001b[0m\u001b[0;34m,\u001b[0m \u001b[0my_true\u001b[0m\u001b[0;34m,\u001b[0m \u001b[0my_pred\u001b[0m \u001b[0;34m=\u001b[0m \u001b[0m_check_targets\u001b[0m\u001b[0;34m(\u001b[0m\u001b[0my_true\u001b[0m\u001b[0;34m,\u001b[0m \u001b[0my_pred\u001b[0m\u001b[0;34m)\u001b[0m\u001b[0;34m\u001b[0m\u001b[0m\n\u001b[0m\u001b[1;32m   1553\u001b[0m \u001b[0;34m\u001b[0m\u001b[0m\n\u001b[1;32m   1554\u001b[0m     \u001b[0;32mif\u001b[0m \u001b[0mlabels\u001b[0m \u001b[0;32mis\u001b[0m \u001b[0;32mNone\u001b[0m\u001b[0;34m:\u001b[0m\u001b[0;34m\u001b[0m\u001b[0m\n",
      "\u001b[0;32m/usr/lib/python3.6/site-packages/sklearn/metrics/classification.py\u001b[0m in \u001b[0;36m_check_targets\u001b[0;34m(y_true, y_pred)\u001b[0m\n\u001b[1;32m     79\u001b[0m     \u001b[0;32mif\u001b[0m \u001b[0mlen\u001b[0m\u001b[0;34m(\u001b[0m\u001b[0my_type\u001b[0m\u001b[0;34m)\u001b[0m \u001b[0;34m>\u001b[0m \u001b[0;36m1\u001b[0m\u001b[0;34m:\u001b[0m\u001b[0;34m\u001b[0m\u001b[0m\n\u001b[1;32m     80\u001b[0m         raise ValueError(\"Classification metrics can't handle a mix of {0} \"\n\u001b[0;32m---> 81\u001b[0;31m                          \"and {1} targets\".format(type_true, type_pred))\n\u001b[0m\u001b[1;32m     82\u001b[0m \u001b[0;34m\u001b[0m\u001b[0m\n\u001b[1;32m     83\u001b[0m     \u001b[0;31m# We can't have more than one value on y_type => The set is no more needed\u001b[0m\u001b[0;34m\u001b[0m\u001b[0;34m\u001b[0m\u001b[0m\n",
      "\u001b[0;31mValueError\u001b[0m: Classification metrics can't handle a mix of multilabel-indicator and unknown targets"
     ]
    }
   ],
   "source": [
    "evaluate(y_test, y_pred, y_pred_pp)"
   ]
  },
  {
   "cell_type": "code",
   "execution_count": 12,
   "metadata": {},
   "outputs": [
    {
     "data": {
      "text/plain": [
       "array([[0.990577  , 0.009423  ],\n",
       "       [0.98117969, 0.01882031],\n",
       "       [0.96732898, 0.03267102],\n",
       "       [0.98906323, 0.01093677],\n",
       "       [0.21859161, 0.78140839],\n",
       "       [0.143681  , 0.856319  ]])"
      ]
     },
     "execution_count": 12,
     "metadata": {},
     "output_type": "execute_result"
    }
   ],
   "source": [
    "y_pred_pp[0]"
   ]
  },
  {
   "cell_type": "code",
   "execution_count": 15,
   "metadata": {},
   "outputs": [
    {
     "data": {
      "text/plain": [
       "array([0, 0, 0, 0, 1, 0])"
      ]
     },
     "execution_count": 15,
     "metadata": {},
     "output_type": "execute_result"
    }
   ],
   "source": [
    "y_pred[0]"
   ]
  },
  {
   "cell_type": "code",
   "execution_count": 17,
   "metadata": {},
   "outputs": [
    {
     "data": {
      "text/plain": [
       "array([[1, 0],\n",
       "       [1, 0],\n",
       "       [1, 0],\n",
       "       [1, 0],\n",
       "       [0, 1],\n",
       "       [0, 1]])"
      ]
     },
     "execution_count": 17,
     "metadata": {},
     "output_type": "execute_result"
    }
   ],
   "source": [
    "(y_pred_pp[0] >= .5).astype(int)"
   ]
  },
  {
   "cell_type": "code",
   "execution_count": 13,
   "metadata": {},
   "outputs": [
    {
     "data": {
      "text/plain": [
       "array([0, 0, 0, 1, 0, 0], dtype=int64)"
      ]
     },
     "execution_count": 13,
     "metadata": {},
     "output_type": "execute_result"
    }
   ],
   "source": [
    "y_train[0]"
   ]
  },
  {
   "cell_type": "code",
   "execution_count": null,
   "metadata": {},
   "outputs": [],
   "source": []
  }
 ],
 "metadata": {
  "kernelspec": {
   "display_name": "Python 3",
   "language": "python",
   "name": "python3"
  },
  "language_info": {
   "codemirror_mode": {
    "name": "ipython",
    "version": 3
   },
   "file_extension": ".py",
   "mimetype": "text/x-python",
   "name": "python",
   "nbconvert_exporter": "python",
   "pygments_lexer": "ipython3",
   "version": "3.6.5"
  }
 },
 "nbformat": 4,
 "nbformat_minor": 2
}
